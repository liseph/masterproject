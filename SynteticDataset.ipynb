{
 "cells": [
  {
   "cell_type": "markdown",
   "metadata": {},
   "source": [
    "# Create a syntetic dataset"
   ]
  },
  {
   "cell_type": "code",
   "execution_count": 15,
   "metadata": {},
   "outputs": [],
   "source": [
    "import pandas as pd\n",
    "import numpy as np\n",
    "import reverse_geocoder as rg\n",
    "import preprocessor as p\n",
    "from gensim.parsing.preprocessing import remove_stopwords, STOPWORDS\n",
    "import math\n",
    "from multiprocessing import  Pool"
   ]
  },
  {
   "cell_type": "code",
   "execution_count": 16,
   "metadata": {},
   "outputs": [],
   "source": [
    "FMT = 4\n",
    "N = 1000"
   ]
  },
  {
   "cell_type": "code",
   "execution_count": 17,
   "metadata": {},
   "outputs": [],
   "source": [
    "# Define two tweets that represent two topics\n",
    "topic1 = remove_stopwords(\"parmesan is the best italian food ingredient my food life consists of italian parmesan tomatoes beef and parmesan lets eat all the food\")\n",
    "topic1Period = 7\n",
    "topic1Offset = 0\n",
    "\n",
    "topic2 = remove_stopwords(\"football is my life kick a ball in the goal the goal is to win win win sports football is a sports lets kick\")\n",
    "topic2Period = 15\n",
    "topic2Offset = 4"
   ]
  },
  {
   "cell_type": "code",
   "execution_count": 18,
   "metadata": {},
   "outputs": [
    {
     "data": {
      "text/html": [
       "<div>\n",
       "<style scoped>\n",
       "    .dataframe tbody tr th:only-of-type {\n",
       "        vertical-align: middle;\n",
       "    }\n",
       "\n",
       "    .dataframe tbody tr th {\n",
       "        vertical-align: top;\n",
       "    }\n",
       "\n",
       "    .dataframe thead th {\n",
       "        text-align: right;\n",
       "    }\n",
       "</style>\n",
       "<table border=\"1\" class=\"dataframe\">\n",
       "  <thead>\n",
       "    <tr style=\"text-align: right;\">\n",
       "      <th></th>\n",
       "      <th>timestamp_ms</th>\n",
       "      <th>longitude</th>\n",
       "      <th>latitude</th>\n",
       "      <th>text</th>\n",
       "      <th>name</th>\n",
       "      <th>admin1</th>\n",
       "      <th>cc</th>\n",
       "    </tr>\n",
       "  </thead>\n",
       "  <tbody>\n",
       "    <tr>\n",
       "      <th>0</th>\n",
       "      <td>1443887442007</td>\n",
       "      <td>-66.578926</td>\n",
       "      <td>6.422820</td>\n",
       "      <td>encanta grand central market new york</td>\n",
       "      <td>Puerto Carreno</td>\n",
       "      <td>Vichada</td>\n",
       "      <td>CO</td>\n",
       "    </tr>\n",
       "    <tr>\n",
       "      <th>1</th>\n",
       "      <td>1443887443914</td>\n",
       "      <td>-73.948775</td>\n",
       "      <td>40.655138</td>\n",
       "      <td>sgt manciati detective zito prowl divineknight...</td>\n",
       "      <td>Brooklyn</td>\n",
       "      <td>New York</td>\n",
       "      <td>US</td>\n",
       "    </tr>\n",
       "    <tr>\n",
       "      <th>2</th>\n",
       "      <td>1443887588840</td>\n",
       "      <td>-122.630908</td>\n",
       "      <td>45.536402</td>\n",
       "      <td>days season premiere lawandordersvu svu</td>\n",
       "      <td>Portland</td>\n",
       "      <td>Oregon</td>\n",
       "      <td>US</td>\n",
       "    </tr>\n",
       "    <tr>\n",
       "      <th>3</th>\n",
       "      <td>1443888294480</td>\n",
       "      <td>-100.076888</td>\n",
       "      <td>31.168893</td>\n",
       "      <td>afcvwba today points come arsenal afc westbrom...</td>\n",
       "      <td>Eden</td>\n",
       "      <td>Texas</td>\n",
       "      <td>US</td>\n",
       "    </tr>\n",
       "    <tr>\n",
       "      <th>4</th>\n",
       "      <td>1443888510207</td>\n",
       "      <td>-89.266507</td>\n",
       "      <td>39.739300</td>\n",
       "      <td>yes potus hates disrespects people excersizing...</td>\n",
       "      <td>Edinburg</td>\n",
       "      <td>Illinois</td>\n",
       "      <td>US</td>\n",
       "    </tr>\n",
       "    <tr>\n",
       "      <th>...</th>\n",
       "      <td>...</td>\n",
       "      <td>...</td>\n",
       "      <td>...</td>\n",
       "      <td>...</td>\n",
       "      <td>...</td>\n",
       "      <td>...</td>\n",
       "      <td>...</td>\n",
       "    </tr>\n",
       "    <tr>\n",
       "      <th>995</th>\n",
       "      <td>1443929955976</td>\n",
       "      <td>-79.980689</td>\n",
       "      <td>40.431389</td>\n",
       "      <td>canal carleton university official</td>\n",
       "      <td>Pittsburgh</td>\n",
       "      <td>Pennsylvania</td>\n",
       "      <td>US</td>\n",
       "    </tr>\n",
       "    <tr>\n",
       "      <th>996</th>\n",
       "      <td>1443930099195</td>\n",
       "      <td>-82.388215</td>\n",
       "      <td>36.344668</td>\n",
       "      <td>funny ass nigga job trying best ignore till ye...</td>\n",
       "      <td>Johnson City</td>\n",
       "      <td>Tennessee</td>\n",
       "      <td>US</td>\n",
       "    </tr>\n",
       "    <tr>\n",
       "      <th>997</th>\n",
       "      <td>1443930134934</td>\n",
       "      <td>-117.434222</td>\n",
       "      <td>47.667438</td>\n",
       "      <td>dale pretty cool</td>\n",
       "      <td>Spokane</td>\n",
       "      <td>Washington</td>\n",
       "      <td>US</td>\n",
       "    </tr>\n",
       "    <tr>\n",
       "      <th>998</th>\n",
       "      <td>1443930511894</td>\n",
       "      <td>-100.076888</td>\n",
       "      <td>31.168893</td>\n",
       "      <td>today agenda study test</td>\n",
       "      <td>Eden</td>\n",
       "      <td>Texas</td>\n",
       "      <td>US</td>\n",
       "    </tr>\n",
       "    <tr>\n",
       "      <th>999</th>\n",
       "      <td>1443930513563</td>\n",
       "      <td>-80.396670</td>\n",
       "      <td>32.761775</td>\n",
       "      <td>potus declare war</td>\n",
       "      <td>Ravenel</td>\n",
       "      <td>South Carolina</td>\n",
       "      <td>US</td>\n",
       "    </tr>\n",
       "  </tbody>\n",
       "</table>\n",
       "<p>1000 rows × 7 columns</p>\n",
       "</div>"
      ],
      "text/plain": [
       "      timestamp_ms   longitude   latitude  \\\n",
       "0    1443887442007  -66.578926   6.422820   \n",
       "1    1443887443914  -73.948775  40.655138   \n",
       "2    1443887588840 -122.630908  45.536402   \n",
       "3    1443888294480 -100.076888  31.168893   \n",
       "4    1443888510207  -89.266507  39.739300   \n",
       "..             ...         ...        ...   \n",
       "995  1443929955976  -79.980689  40.431389   \n",
       "996  1443930099195  -82.388215  36.344668   \n",
       "997  1443930134934 -117.434222  47.667438   \n",
       "998  1443930511894 -100.076888  31.168893   \n",
       "999  1443930513563  -80.396670  32.761775   \n",
       "\n",
       "                                                  text            name  \\\n",
       "0                encanta grand central market new york  Puerto Carreno   \n",
       "1    sgt manciati detective zito prowl divineknight...        Brooklyn   \n",
       "2              days season premiere lawandordersvu svu        Portland   \n",
       "3    afcvwba today points come arsenal afc westbrom...            Eden   \n",
       "4    yes potus hates disrespects people excersizing...        Edinburg   \n",
       "..                                                 ...             ...   \n",
       "995                 canal carleton university official      Pittsburgh   \n",
       "996  funny ass nigga job trying best ignore till ye...    Johnson City   \n",
       "997                                   dale pretty cool         Spokane   \n",
       "998                            today agenda study test            Eden   \n",
       "999                                  potus declare war         Ravenel   \n",
       "\n",
       "             admin1  cc  \n",
       "0           Vichada  CO  \n",
       "1          New York  US  \n",
       "2            Oregon  US  \n",
       "3             Texas  US  \n",
       "4          Illinois  US  \n",
       "..              ...  ..  \n",
       "995    Pennsylvania  US  \n",
       "996       Tennessee  US  \n",
       "997      Washington  US  \n",
       "998           Texas  US  \n",
       "999  South Carolina  US  \n",
       "\n",
       "[1000 rows x 7 columns]"
      ]
     },
     "execution_count": 18,
     "metadata": {},
     "output_type": "execute_result"
    }
   ],
   "source": [
    "# Import dataset without patterns\n",
    "df = pd.read_csv('1000EnForSynth.csv', encoding='cp1252')\n",
    "df2 = pd.read_csv('1_33_1000EnForSynth.csv', encoding='cp1252')\n",
    "df['text'] = df2['text']\n",
    "df = df.drop([\"Unnamed: 0\"], axis=1)\n",
    "df"
   ]
  },
  {
   "cell_type": "code",
   "execution_count": 19,
   "metadata": {},
   "outputs": [
    {
     "name": "stderr",
     "output_type": "stream",
     "text": [
      "<ipython-input-19-2588ce3ccd19>:7: SettingWithCopyWarning: \n",
      "A value is trying to be set on a copy of a slice from a DataFrame\n",
      "\n",
      "See the caveats in the documentation: https://pandas.pydata.org/pandas-docs/stable/user_guide/indexing.html#returning-a-view-versus-a-copy\n",
      "  row1loc1['text'] = topic1\n",
      "<ipython-input-19-2588ce3ccd19>:8: SettingWithCopyWarning: \n",
      "A value is trying to be set on a copy of a slice from a DataFrame\n",
      "\n",
      "See the caveats in the documentation: https://pandas.pydata.org/pandas-docs/stable/user_guide/indexing.html#returning-a-view-versus-a-copy\n",
      "  row1loc2['text'] = topic1\n",
      "<ipython-input-19-2588ce3ccd19>:25: SettingWithCopyWarning: \n",
      "A value is trying to be set on a copy of a slice from a DataFrame\n",
      "\n",
      "See the caveats in the documentation: https://pandas.pydata.org/pandas-docs/stable/user_guide/indexing.html#returning-a-view-versus-a-copy\n",
      "  row2loc1['text'] = topic2\n",
      "<ipython-input-19-2588ce3ccd19>:26: SettingWithCopyWarning: \n",
      "A value is trying to be set on a copy of a slice from a DataFrame\n",
      "\n",
      "See the caveats in the documentation: https://pandas.pydata.org/pandas-docs/stable/user_guide/indexing.html#returning-a-view-versus-a-copy\n",
      "  row2loc2['text'] = topic2\n",
      "<ipython-input-19-2588ce3ccd19>:27: SettingWithCopyWarning: \n",
      "A value is trying to be set on a copy of a slice from a DataFrame\n",
      "\n",
      "See the caveats in the documentation: https://pandas.pydata.org/pandas-docs/stable/user_guide/indexing.html#returning-a-view-versus-a-copy\n",
      "  row2loc3['text'] = topic2\n",
      "<ipython-input-19-2588ce3ccd19>:28: SettingWithCopyWarning: \n",
      "A value is trying to be set on a copy of a slice from a DataFrame\n",
      "\n",
      "See the caveats in the documentation: https://pandas.pydata.org/pandas-docs/stable/user_guide/indexing.html#returning-a-view-versus-a-copy\n",
      "  row2loc4['text'] = topic2\n"
     ]
    },
    {
     "name": "stdout",
     "output_type": "stream",
     "text": [
      "976\n"
     ]
    }
   ],
   "source": [
    "# Insert periodic topics\n",
    "# Topic 1: Insert at two locations\n",
    "# Set topic text\n",
    "# Store rows with location info per location\n",
    "row1loc1 = df.iloc[topic1Offset*FMT]\n",
    "row1loc2 = df.iloc[98]\n",
    "row1loc1['text'] = topic1\n",
    "row1loc2['text'] = topic1\n",
    "# Set rows periodically to contain the same text and location\n",
    "for i in range(topic1Offset*FMT, N, topic1Period*FMT):\n",
    "    df.iloc[i] = row1loc1\n",
    "    df.iloc[i+1] = row1loc1\n",
    "    \n",
    "    df.iloc[i+FMT] = row1loc2\n",
    "    df.iloc[i+FMT+1] = row1loc2\n",
    "\n",
    "\n",
    "# Topic 2: Insert at four locations, same procedure as topic 1. \n",
    "# Set in the last two timestamps per day to avoid crashing with topic 1.\n",
    "row2loc1 = df.iloc[11]\n",
    "row2loc2 = df.iloc[272]\n",
    "row2loc3 = df.iloc[21]\n",
    "row2loc4 = df.iloc[485]\n",
    "\n",
    "row2loc1['text'] = topic2\n",
    "row2loc2['text'] = topic2\n",
    "row2loc3['text'] = topic2\n",
    "row2loc4['text'] = topic2\n",
    "\n",
    "for i in range(topic2Offset * FMT, N, topic2Period * FMT):\n",
    "    try:\n",
    "        df.iloc[i+2] = row2loc1\n",
    "        df.iloc[i+3] = row2loc1\n",
    "\n",
    "        df.iloc[i+(2*FMT)+2] = row2loc2\n",
    "        df.iloc[i+(2*FMT)+3] = row2loc2\n",
    "\n",
    "        df.iloc[i+(3*FMT)+2] = row2loc3\n",
    "        df.iloc[i+(3*FMT)+3] = row2loc3\n",
    "\n",
    "        df.iloc[i+(7*FMT)+2] = row2loc4\n",
    "        df.iloc[i+(7*FMT)+3] = row2loc4\n",
    "    except:\n",
    "        print(i)"
   ]
  },
  {
   "cell_type": "code",
   "execution_count": 20,
   "metadata": {},
   "outputs": [],
   "source": [
    "# Set new timestamps, generate FMT timestamps per day, frequency = 24/FMTH. Convert to milliseconds\n",
    "freq = str(24//FMT) + \"H\"\n",
    "dti = pd.date_range(\"2018-01-01\", periods=N, freq=freq)\n",
    "df[\"timestamp_date\"] = dti\n",
    "df['timestamp_ms'] = df['timestamp_date'].astype(np.int64) / int(1e6)\n",
    "df.timestamp_ms = df.timestamp_ms.astype(int)\n",
    "df = df.drop(['timestamp_date'], axis=1)"
   ]
  },
  {
   "cell_type": "code",
   "execution_count": 21,
   "metadata": {},
   "outputs": [
    {
     "data": {
      "text/html": [
       "<div>\n",
       "<style scoped>\n",
       "    .dataframe tbody tr th:only-of-type {\n",
       "        vertical-align: middle;\n",
       "    }\n",
       "\n",
       "    .dataframe tbody tr th {\n",
       "        vertical-align: top;\n",
       "    }\n",
       "\n",
       "    .dataframe thead th {\n",
       "        text-align: right;\n",
       "    }\n",
       "</style>\n",
       "<table border=\"1\" class=\"dataframe\">\n",
       "  <thead>\n",
       "    <tr style=\"text-align: right;\">\n",
       "      <th></th>\n",
       "      <th>timestamp_ms</th>\n",
       "      <th>longitude</th>\n",
       "      <th>latitude</th>\n",
       "      <th>text</th>\n",
       "      <th>name</th>\n",
       "      <th>admin1</th>\n",
       "      <th>cc</th>\n",
       "    </tr>\n",
       "  </thead>\n",
       "  <tbody>\n",
       "    <tr>\n",
       "      <th>0</th>\n",
       "      <td>1514764800000</td>\n",
       "      <td>-66.578926</td>\n",
       "      <td>6.422820</td>\n",
       "      <td>parmesan best italian food ingredient food lif...</td>\n",
       "      <td>Puerto Carreno</td>\n",
       "      <td>Vichada</td>\n",
       "      <td>CO</td>\n",
       "    </tr>\n",
       "    <tr>\n",
       "      <th>1</th>\n",
       "      <td>1514786400000</td>\n",
       "      <td>-66.578926</td>\n",
       "      <td>6.422820</td>\n",
       "      <td>parmesan best italian food ingredient food lif...</td>\n",
       "      <td>Puerto Carreno</td>\n",
       "      <td>Vichada</td>\n",
       "      <td>CO</td>\n",
       "    </tr>\n",
       "    <tr>\n",
       "      <th>2</th>\n",
       "      <td>1514808000000</td>\n",
       "      <td>-122.630908</td>\n",
       "      <td>45.536402</td>\n",
       "      <td>days season premiere lawandordersvu svu</td>\n",
       "      <td>Portland</td>\n",
       "      <td>Oregon</td>\n",
       "      <td>US</td>\n",
       "    </tr>\n",
       "    <tr>\n",
       "      <th>3</th>\n",
       "      <td>1514829600000</td>\n",
       "      <td>-100.076888</td>\n",
       "      <td>31.168893</td>\n",
       "      <td>afcvwba today points come arsenal afc westbrom...</td>\n",
       "      <td>Eden</td>\n",
       "      <td>Texas</td>\n",
       "      <td>US</td>\n",
       "    </tr>\n",
       "    <tr>\n",
       "      <th>4</th>\n",
       "      <td>1514851200000</td>\n",
       "      <td>9.983662</td>\n",
       "      <td>53.550628</td>\n",
       "      <td>parmesan best italian food ingredient food lif...</td>\n",
       "      <td>Neustadt</td>\n",
       "      <td>Hamburg</td>\n",
       "      <td>DE</td>\n",
       "    </tr>\n",
       "    <tr>\n",
       "      <th>...</th>\n",
       "      <td>...</td>\n",
       "      <td>...</td>\n",
       "      <td>...</td>\n",
       "      <td>...</td>\n",
       "      <td>...</td>\n",
       "      <td>...</td>\n",
       "      <td>...</td>\n",
       "    </tr>\n",
       "    <tr>\n",
       "      <th>995</th>\n",
       "      <td>1536256800000</td>\n",
       "      <td>-79.980689</td>\n",
       "      <td>40.431389</td>\n",
       "      <td>canal carleton university official</td>\n",
       "      <td>Pittsburgh</td>\n",
       "      <td>Pennsylvania</td>\n",
       "      <td>US</td>\n",
       "    </tr>\n",
       "    <tr>\n",
       "      <th>996</th>\n",
       "      <td>1536278400000</td>\n",
       "      <td>-82.388215</td>\n",
       "      <td>36.344668</td>\n",
       "      <td>funny ass nigga job trying best ignore till ye...</td>\n",
       "      <td>Johnson City</td>\n",
       "      <td>Tennessee</td>\n",
       "      <td>US</td>\n",
       "    </tr>\n",
       "    <tr>\n",
       "      <th>997</th>\n",
       "      <td>1536300000000</td>\n",
       "      <td>-117.434222</td>\n",
       "      <td>47.667438</td>\n",
       "      <td>dale pretty cool</td>\n",
       "      <td>Spokane</td>\n",
       "      <td>Washington</td>\n",
       "      <td>US</td>\n",
       "    </tr>\n",
       "    <tr>\n",
       "      <th>998</th>\n",
       "      <td>1536321600000</td>\n",
       "      <td>-100.076888</td>\n",
       "      <td>31.168893</td>\n",
       "      <td>today agenda study test</td>\n",
       "      <td>Eden</td>\n",
       "      <td>Texas</td>\n",
       "      <td>US</td>\n",
       "    </tr>\n",
       "    <tr>\n",
       "      <th>999</th>\n",
       "      <td>1536343200000</td>\n",
       "      <td>-80.396670</td>\n",
       "      <td>32.761775</td>\n",
       "      <td>potus declare war</td>\n",
       "      <td>Ravenel</td>\n",
       "      <td>South Carolina</td>\n",
       "      <td>US</td>\n",
       "    </tr>\n",
       "  </tbody>\n",
       "</table>\n",
       "<p>1000 rows × 7 columns</p>\n",
       "</div>"
      ],
      "text/plain": [
       "      timestamp_ms   longitude   latitude  \\\n",
       "0    1514764800000  -66.578926   6.422820   \n",
       "1    1514786400000  -66.578926   6.422820   \n",
       "2    1514808000000 -122.630908  45.536402   \n",
       "3    1514829600000 -100.076888  31.168893   \n",
       "4    1514851200000    9.983662  53.550628   \n",
       "..             ...         ...        ...   \n",
       "995  1536256800000  -79.980689  40.431389   \n",
       "996  1536278400000  -82.388215  36.344668   \n",
       "997  1536300000000 -117.434222  47.667438   \n",
       "998  1536321600000 -100.076888  31.168893   \n",
       "999  1536343200000  -80.396670  32.761775   \n",
       "\n",
       "                                                  text            name  \\\n",
       "0    parmesan best italian food ingredient food lif...  Puerto Carreno   \n",
       "1    parmesan best italian food ingredient food lif...  Puerto Carreno   \n",
       "2              days season premiere lawandordersvu svu        Portland   \n",
       "3    afcvwba today points come arsenal afc westbrom...            Eden   \n",
       "4    parmesan best italian food ingredient food lif...        Neustadt   \n",
       "..                                                 ...             ...   \n",
       "995                 canal carleton university official      Pittsburgh   \n",
       "996  funny ass nigga job trying best ignore till ye...    Johnson City   \n",
       "997                                   dale pretty cool         Spokane   \n",
       "998                            today agenda study test            Eden   \n",
       "999                                  potus declare war         Ravenel   \n",
       "\n",
       "             admin1  cc  \n",
       "0           Vichada  CO  \n",
       "1           Vichada  CO  \n",
       "2            Oregon  US  \n",
       "3             Texas  US  \n",
       "4           Hamburg  DE  \n",
       "..              ...  ..  \n",
       "995    Pennsylvania  US  \n",
       "996       Tennessee  US  \n",
       "997      Washington  US  \n",
       "998           Texas  US  \n",
       "999  South Carolina  US  \n",
       "\n",
       "[1000 rows x 7 columns]"
      ]
     },
     "execution_count": 21,
     "metadata": {},
     "output_type": "execute_result"
    }
   ],
   "source": [
    "df"
   ]
  },
  {
   "cell_type": "code",
   "execution_count": 28,
   "metadata": {},
   "outputs": [],
   "source": [
    "fmt = '%d\\n%.8f\\n%.8f\\n%s\\n%s\\n%s\\n%s'\n",
    "np.savetxt(r'datasets/datasetSynth1000_tweets_from_1_33.txt', df.values, fmt=fmt, delimiter='\\r\\n')"
   ]
  },
  {
   "cell_type": "code",
   "execution_count": 22,
   "metadata": {},
   "outputs": [
    {
     "data": {
      "text/plain": [
       "timestamp_ms                                        1443887442007\n",
       "longitude                                                -66.5789\n",
       "latitude                                                  6.42282\n",
       "text            parmesan best italian food ingredient food lif...\n",
       "name                                               Puerto Carreno\n",
       "admin1                                                    Vichada\n",
       "cc                                                             CO\n",
       "Name: 0, dtype: object"
      ]
     },
     "execution_count": 22,
     "metadata": {},
     "output_type": "execute_result"
    }
   ],
   "source": [
    "row1loc1"
   ]
  },
  {
   "cell_type": "code",
   "execution_count": 23,
   "metadata": {},
   "outputs": [
    {
     "data": {
      "text/plain": [
       "timestamp_ms                                        1443893461924\n",
       "longitude                                                 9.98366\n",
       "latitude                                                  53.5506\n",
       "text            parmesan best italian food ingredient food lif...\n",
       "name                                                     Neustadt\n",
       "admin1                                                    Hamburg\n",
       "cc                                                             DE\n",
       "Name: 98, dtype: object"
      ]
     },
     "execution_count": 23,
     "metadata": {},
     "output_type": "execute_result"
    }
   ],
   "source": [
    "row1loc2"
   ]
  },
  {
   "cell_type": "code",
   "execution_count": 24,
   "metadata": {},
   "outputs": [
    {
     "data": {
      "text/plain": [
       "timestamp_ms                                        1443889281097\n",
       "longitude                                                  121.45\n",
       "latitude                                                  14.2528\n",
       "text            football life kick ball goal goal win win win ...\n",
       "name                                                   Cabanbanan\n",
       "admin1                                                 Calabarzon\n",
       "cc                                                             PH\n",
       "Name: 11, dtype: object"
      ]
     },
     "execution_count": 24,
     "metadata": {},
     "output_type": "execute_result"
    }
   ],
   "source": [
    "row2loc1"
   ]
  },
  {
   "cell_type": "code",
   "execution_count": 25,
   "metadata": {},
   "outputs": [
    {
     "data": {
      "text/plain": [
       "timestamp_ms                                        1443903723223\n",
       "longitude                                                -60.0298\n",
       "latitude                                                 -37.1476\n",
       "text            football life kick ball goal goal win win win ...\n",
       "name                                                    Olavarria\n",
       "admin1                                               Buenos Aires\n",
       "cc                                                             AR\n",
       "Name: 272, dtype: object"
      ]
     },
     "execution_count": 25,
     "metadata": {},
     "output_type": "execute_result"
    }
   ],
   "source": [
    "row2loc2"
   ]
  },
  {
   "cell_type": "code",
   "execution_count": 26,
   "metadata": {},
   "outputs": [
    {
     "data": {
      "text/plain": [
       "timestamp_ms                                        1443890524089\n",
       "longitude                                                  120.97\n",
       "latitude                                                  14.4305\n",
       "text            football life kick ball goal goal win win win ...\n",
       "name                                                    Las Pinas\n",
       "admin1                                                 Calabarzon\n",
       "cc                                                             PH\n",
       "Name: 21, dtype: object"
      ]
     },
     "execution_count": 26,
     "metadata": {},
     "output_type": "execute_result"
    }
   ],
   "source": [
    "row2loc3"
   ]
  },
  {
   "cell_type": "code",
   "execution_count": 27,
   "metadata": {},
   "outputs": [
    {
     "data": {
      "text/plain": [
       "timestamp_ms                                        1443911709978\n",
       "longitude                                                -79.2726\n",
       "latitude                                                  43.6293\n",
       "text            football life kick ball goal goal win win win ...\n",
       "name                                                  Scarborough\n",
       "admin1                                                    Ontario\n",
       "cc                                                             CA\n",
       "Name: 485, dtype: object"
      ]
     },
     "execution_count": 27,
     "metadata": {},
     "output_type": "execute_result"
    }
   ],
   "source": [
    "row2loc4"
   ]
  },
  {
   "cell_type": "code",
   "execution_count": null,
   "metadata": {},
   "outputs": [],
   "source": []
  },
  {
   "cell_type": "code",
   "execution_count": null,
   "metadata": {},
   "outputs": [],
   "source": []
  },
  {
   "cell_type": "code",
   "execution_count": null,
   "metadata": {},
   "outputs": [],
   "source": []
  }
 ],
 "metadata": {
  "kernelspec": {
   "display_name": "Python 3",
   "language": "python",
   "name": "python3"
  },
  "language_info": {
   "codemirror_mode": {
    "name": "ipython",
    "version": 3
   },
   "file_extension": ".py",
   "mimetype": "text/x-python",
   "name": "python",
   "nbconvert_exporter": "python",
   "pygments_lexer": "ipython3",
   "version": "3.8.3"
  }
 },
 "nbformat": 4,
 "nbformat_minor": 4
}
