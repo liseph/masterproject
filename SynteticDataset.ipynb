{
 "cells": [
  {
   "cell_type": "markdown",
   "metadata": {},
   "source": [
    "# Create a syntetic dataset"
   ]
  },
  {
   "cell_type": "code",
   "execution_count": 1,
   "metadata": {},
   "outputs": [],
   "source": [
    "import pandas as pd\n",
    "import numpy as np\n",
    "import reverse_geocoder as rg\n",
    "import preprocessor as p\n",
    "from gensim.parsing.preprocessing import remove_stopwords, STOPWORDS\n",
    "import math\n",
    "from multiprocessing import  Pool"
   ]
  },
  {
   "cell_type": "code",
   "execution_count": 2,
   "metadata": {},
   "outputs": [],
   "source": [
    "FMT = 4\n",
    "N = 1000"
   ]
  },
  {
   "cell_type": "code",
   "execution_count": 3,
   "metadata": {},
   "outputs": [],
   "source": [
    "# Define two tweets that represent two topics\n",
    "topic1 = remove_stopwords(\"parmesan is the best italian food ingredient my food life consists of italian parmesan tomatoes beef and parmesan lets eat all the food\")\n",
    "topic1Period = 7\n",
    "topic1Offset = 0\n",
    "\n",
    "topic2 = remove_stopwords(\"football is my life kick a ball in the goal the goal is to win win win sports football is a sports lets kick\")\n",
    "topic2Period = 15\n",
    "topic2Offset = 4"
   ]
  },
  {
   "cell_type": "code",
   "execution_count": 4,
   "metadata": {},
   "outputs": [],
   "source": [
    "# Import dataset without patterns\n",
    "df = pd.read_csv('dataset1000En.csv', encoding='cp1252')\n",
    "df = df.drop([\"Unnamed: 0\"], axis=1)"
   ]
  },
  {
   "cell_type": "code",
   "execution_count": 5,
   "metadata": {},
   "outputs": [
    {
     "name": "stdout",
     "output_type": "stream",
     "text": [
      "976\n"
     ]
    },
    {
     "name": "stderr",
     "output_type": "stream",
     "text": [
      "<ipython-input-5-c1a614ef4808>:25: SettingWithCopyWarning: \n",
      "A value is trying to be set on a copy of a slice from a DataFrame\n",
      "\n",
      "See the caveats in the documentation: https://pandas.pydata.org/pandas-docs/stable/user_guide/indexing.html#returning-a-view-versus-a-copy\n",
      "  row2loc1['text'] = topic2\n",
      "<ipython-input-5-c1a614ef4808>:26: SettingWithCopyWarning: \n",
      "A value is trying to be set on a copy of a slice from a DataFrame\n",
      "\n",
      "See the caveats in the documentation: https://pandas.pydata.org/pandas-docs/stable/user_guide/indexing.html#returning-a-view-versus-a-copy\n",
      "  row2loc2['text'] = topic2\n",
      "<ipython-input-5-c1a614ef4808>:27: SettingWithCopyWarning: \n",
      "A value is trying to be set on a copy of a slice from a DataFrame\n",
      "\n",
      "See the caveats in the documentation: https://pandas.pydata.org/pandas-docs/stable/user_guide/indexing.html#returning-a-view-versus-a-copy\n",
      "  row2loc3['text'] = topic2\n",
      "<ipython-input-5-c1a614ef4808>:28: SettingWithCopyWarning: \n",
      "A value is trying to be set on a copy of a slice from a DataFrame\n",
      "\n",
      "See the caveats in the documentation: https://pandas.pydata.org/pandas-docs/stable/user_guide/indexing.html#returning-a-view-versus-a-copy\n",
      "  row2loc4['text'] = topic2\n"
     ]
    }
   ],
   "source": [
    "# Insert periodic topics\n",
    "# Topic 1: Insert at two locations\n",
    "# Set topic text\n",
    "df.loc[topic1Offset*FMT, \"text\"] = topic1\n",
    "df.loc[(topic1Offset+1)*FMT, \"text\"] = topic1\n",
    "# Store rows with location info per location\n",
    "row1loc1 = df.iloc[topic1Offset*FMT]\n",
    "row1loc2 = df.iloc[(topic1Offset+1)*FMT]\n",
    "# Set rows periodically to contain the same text and location\n",
    "for i in range(topic1Offset*FMT, N, topic1Period*FMT):\n",
    "    df.iloc[i] = row1loc1\n",
    "    df.iloc[i+1] = row1loc1\n",
    "    \n",
    "    df.iloc[i+FMT] = row1loc2\n",
    "    df.iloc[i+FMT+1] = row1loc2\n",
    "\n",
    "\n",
    "# Topic 2: Insert at four locations, same procedure as topic 1. \n",
    "# Set in the last two timestamps per day to avoid crashing with topic 1.\n",
    "row2loc1 = df.iloc[topic2Offset*FMT+2]\n",
    "row2loc2 = df.iloc[998]\n",
    "row2loc3 = df.iloc[(topic2Offset+3)*FMT+2]\n",
    "row2loc4 = df.iloc[995]\n",
    "\n",
    "row2loc1['text'] = topic2\n",
    "row2loc2['text'] = topic2\n",
    "row2loc3['text'] = topic2\n",
    "row2loc4['text'] = topic2\n",
    "\n",
    "for i in range(topic2Offset * FMT, N, topic2Period * FMT):\n",
    "    try:\n",
    "        df.iloc[i+2] = row2loc1\n",
    "        df.iloc[i+3] = row2loc1\n",
    "\n",
    "        df.iloc[i+(2*FMT)+2] = row2loc2\n",
    "        df.iloc[i+(2*FMT)+3] = row2loc2\n",
    "\n",
    "        df.iloc[i+(3*FMT)+2] = row2loc3\n",
    "        df.iloc[i+(3*FMT)+3] = row2loc3\n",
    "\n",
    "        df.iloc[i+(7*FMT)+2] = row2loc4\n",
    "        df.iloc[i+(7*FMT)+3] = row2loc4\n",
    "    except:\n",
    "        print(i)"
   ]
  },
  {
   "cell_type": "code",
   "execution_count": 6,
   "metadata": {},
   "outputs": [],
   "source": [
    "# Set new timestamps, generate FMT timestamps per day, frequency = 24/FMTH. Convert to milliseconds\n",
    "freq = str(24//FMT) + \"H\"\n",
    "dti = pd.date_range(\"2018-01-01\", periods=N, freq=freq)\n",
    "df[\"timestamp_date\"] = dti\n",
    "df['timestamp_ms'] = df['timestamp_date'].astype(np.int64) / int(1e6)\n",
    "df.timestamp_ms = df.timestamp_ms.astype(int)\n",
    "df = df.drop(['timestamp_date'], axis=1)"
   ]
  },
  {
   "cell_type": "code",
   "execution_count": 7,
   "metadata": {},
   "outputs": [
    {
     "data": {
      "text/html": [
       "<div>\n",
       "<style scoped>\n",
       "    .dataframe tbody tr th:only-of-type {\n",
       "        vertical-align: middle;\n",
       "    }\n",
       "\n",
       "    .dataframe tbody tr th {\n",
       "        vertical-align: top;\n",
       "    }\n",
       "\n",
       "    .dataframe thead th {\n",
       "        text-align: right;\n",
       "    }\n",
       "</style>\n",
       "<table border=\"1\" class=\"dataframe\">\n",
       "  <thead>\n",
       "    <tr style=\"text-align: right;\">\n",
       "      <th></th>\n",
       "      <th>timestamp_ms</th>\n",
       "      <th>longitude</th>\n",
       "      <th>latitude</th>\n",
       "      <th>text</th>\n",
       "      <th>name</th>\n",
       "      <th>admin1</th>\n",
       "      <th>cc</th>\n",
       "    </tr>\n",
       "  </thead>\n",
       "  <tbody>\n",
       "    <tr>\n",
       "      <th>0</th>\n",
       "      <td>1514764800000</td>\n",
       "      <td>-66.578926</td>\n",
       "      <td>6.422820</td>\n",
       "      <td>parmesan best italian food ingredient food lif...</td>\n",
       "      <td>Puerto Carreno</td>\n",
       "      <td>Vichada</td>\n",
       "      <td>CO</td>\n",
       "    </tr>\n",
       "    <tr>\n",
       "      <th>1</th>\n",
       "      <td>1514786400000</td>\n",
       "      <td>-66.578926</td>\n",
       "      <td>6.422820</td>\n",
       "      <td>parmesan best italian food ingredient food lif...</td>\n",
       "      <td>Puerto Carreno</td>\n",
       "      <td>Vichada</td>\n",
       "      <td>CO</td>\n",
       "    </tr>\n",
       "    <tr>\n",
       "      <th>2</th>\n",
       "      <td>1514808000000</td>\n",
       "      <td>-122.228685</td>\n",
       "      <td>37.791994</td>\n",
       "      <td>true</td>\n",
       "      <td>Alameda</td>\n",
       "      <td>California</td>\n",
       "      <td>US</td>\n",
       "    </tr>\n",
       "    <tr>\n",
       "      <th>3</th>\n",
       "      <td>1514829600000</td>\n",
       "      <td>-122.630908</td>\n",
       "      <td>45.536402</td>\n",
       "      <td>going taco bell absolutely makes taco</td>\n",
       "      <td>Portland</td>\n",
       "      <td>Oregon</td>\n",
       "      <td>US</td>\n",
       "    </tr>\n",
       "    <tr>\n",
       "      <th>4</th>\n",
       "      <td>1514851200000</td>\n",
       "      <td>21.060741</td>\n",
       "      <td>52.232836</td>\n",
       "      <td>parmesan best italian food ingredient food lif...</td>\n",
       "      <td>Praga Poludnie</td>\n",
       "      <td>Masovian Voivodeship</td>\n",
       "      <td>PL</td>\n",
       "    </tr>\n",
       "    <tr>\n",
       "      <th>...</th>\n",
       "      <td>...</td>\n",
       "      <td>...</td>\n",
       "      <td>...</td>\n",
       "      <td>...</td>\n",
       "      <td>...</td>\n",
       "      <td>...</td>\n",
       "      <td>...</td>\n",
       "    </tr>\n",
       "    <tr>\n",
       "      <th>995</th>\n",
       "      <td>1536256800000</td>\n",
       "      <td>-79.272569</td>\n",
       "      <td>43.629311</td>\n",
       "      <td>tweeryourseat tourtoronto vance joy ive tweeti...</td>\n",
       "      <td>Scarborough</td>\n",
       "      <td>Ontario</td>\n",
       "      <td>CA</td>\n",
       "    </tr>\n",
       "    <tr>\n",
       "      <th>996</th>\n",
       "      <td>1536278400000</td>\n",
       "      <td>-79.272569</td>\n",
       "      <td>43.629311</td>\n",
       "      <td>tweeryourseat tourtoronto hear sec row seats</td>\n",
       "      <td>Scarborough</td>\n",
       "      <td>Ontario</td>\n",
       "      <td>CA</td>\n",
       "    </tr>\n",
       "    <tr>\n",
       "      <th>997</th>\n",
       "      <td>1536300000000</td>\n",
       "      <td>-89.569491</td>\n",
       "      <td>44.900802</td>\n",
       "      <td>jeremy youre good kid dont change ways</td>\n",
       "      <td>Weston</td>\n",
       "      <td>Wisconsin</td>\n",
       "      <td>US</td>\n",
       "    </tr>\n",
       "    <tr>\n",
       "      <th>998</th>\n",
       "      <td>1536321600000</td>\n",
       "      <td>-60.029848</td>\n",
       "      <td>-37.147576</td>\n",
       "      <td>emabiggestfansjustinbieber</td>\n",
       "      <td>Olavarria</td>\n",
       "      <td>Buenos Aires</td>\n",
       "      <td>AR</td>\n",
       "    </tr>\n",
       "    <tr>\n",
       "      <th>999</th>\n",
       "      <td>1536343200000</td>\n",
       "      <td>-79.272569</td>\n",
       "      <td>43.629311</td>\n",
       "      <td>tweeryourseat tourtoronto times tweet ill sec ...</td>\n",
       "      <td>Scarborough</td>\n",
       "      <td>Ontario</td>\n",
       "      <td>CA</td>\n",
       "    </tr>\n",
       "  </tbody>\n",
       "</table>\n",
       "<p>1000 rows × 7 columns</p>\n",
       "</div>"
      ],
      "text/plain": [
       "      timestamp_ms   longitude   latitude  \\\n",
       "0    1514764800000  -66.578926   6.422820   \n",
       "1    1514786400000  -66.578926   6.422820   \n",
       "2    1514808000000 -122.228685  37.791994   \n",
       "3    1514829600000 -122.630908  45.536402   \n",
       "4    1514851200000   21.060741  52.232836   \n",
       "..             ...         ...        ...   \n",
       "995  1536256800000  -79.272569  43.629311   \n",
       "996  1536278400000  -79.272569  43.629311   \n",
       "997  1536300000000  -89.569491  44.900802   \n",
       "998  1536321600000  -60.029848 -37.147576   \n",
       "999  1536343200000  -79.272569  43.629311   \n",
       "\n",
       "                                                  text            name  \\\n",
       "0    parmesan best italian food ingredient food lif...  Puerto Carreno   \n",
       "1    parmesan best italian food ingredient food lif...  Puerto Carreno   \n",
       "2                                                 true         Alameda   \n",
       "3                going taco bell absolutely makes taco        Portland   \n",
       "4    parmesan best italian food ingredient food lif...  Praga Poludnie   \n",
       "..                                                 ...             ...   \n",
       "995  tweeryourseat tourtoronto vance joy ive tweeti...     Scarborough   \n",
       "996       tweeryourseat tourtoronto hear sec row seats     Scarborough   \n",
       "997             jeremy youre good kid dont change ways          Weston   \n",
       "998                         emabiggestfansjustinbieber       Olavarria   \n",
       "999  tweeryourseat tourtoronto times tweet ill sec ...     Scarborough   \n",
       "\n",
       "                   admin1  cc  \n",
       "0                 Vichada  CO  \n",
       "1                 Vichada  CO  \n",
       "2              California  US  \n",
       "3                  Oregon  US  \n",
       "4    Masovian Voivodeship  PL  \n",
       "..                    ...  ..  \n",
       "995               Ontario  CA  \n",
       "996               Ontario  CA  \n",
       "997             Wisconsin  US  \n",
       "998          Buenos Aires  AR  \n",
       "999               Ontario  CA  \n",
       "\n",
       "[1000 rows x 7 columns]"
      ]
     },
     "execution_count": 7,
     "metadata": {},
     "output_type": "execute_result"
    }
   ],
   "source": [
    "df"
   ]
  },
  {
   "cell_type": "code",
   "execution_count": 15,
   "metadata": {},
   "outputs": [],
   "source": [
    "fmt = '%d\\n%.8f\\n%.8f\\n%s\\n%s\\n%s\\n%s'\n",
    "np.savetxt(r'datasets/datasetSynth1000Improved.txt', df.values, fmt=fmt, delimiter='\\r\\n')"
   ]
  },
  {
   "cell_type": "code",
   "execution_count": 16,
   "metadata": {},
   "outputs": [
    {
     "data": {
      "text/plain": [
       "timestamp_ms                                        1443887442007\n",
       "longitude                                                -66.5789\n",
       "latitude                                                  6.42282\n",
       "text            parmesan best italian food ingredient food lif...\n",
       "name                                               Puerto Carreno\n",
       "admin1                                                    Vichada\n",
       "cc                                                             CO\n",
       "Name: 0, dtype: object"
      ]
     },
     "execution_count": 16,
     "metadata": {},
     "output_type": "execute_result"
    }
   ],
   "source": [
    "row1loc1"
   ]
  },
  {
   "cell_type": "code",
   "execution_count": 17,
   "metadata": {},
   "outputs": [
    {
     "data": {
      "text/plain": [
       "timestamp_ms                                        1443888128338\n",
       "longitude                                                 21.0607\n",
       "latitude                                                  52.2328\n",
       "text            parmesan best italian food ingredient food lif...\n",
       "name                                               Praga Poludnie\n",
       "admin1                                       Masovian Voivodeship\n",
       "cc                                                             PL\n",
       "Name: 4, dtype: object"
      ]
     },
     "execution_count": 17,
     "metadata": {},
     "output_type": "execute_result"
    }
   ],
   "source": [
    "row1loc2"
   ]
  },
  {
   "cell_type": "code",
   "execution_count": 18,
   "metadata": {},
   "outputs": [
    {
     "data": {
      "text/plain": [
       "timestamp_ms                                        1443889322941\n",
       "longitude                                                  121.45\n",
       "latitude                                                  14.2528\n",
       "text            football life kick ball goal goal win win win ...\n",
       "name                                                   Cabanbanan\n",
       "admin1                                                 Calabarzon\n",
       "cc                                                             PH\n",
       "Name: 18, dtype: object"
      ]
     },
     "execution_count": 18,
     "metadata": {},
     "output_type": "execute_result"
    }
   ],
   "source": [
    "row2loc1"
   ]
  },
  {
   "cell_type": "code",
   "execution_count": 19,
   "metadata": {},
   "outputs": [
    {
     "data": {
      "text/plain": [
       "timestamp_ms                                        1443916500406\n",
       "longitude                                                -60.0298\n",
       "latitude                                                 -37.1476\n",
       "text            football life kick ball goal goal win win win ...\n",
       "name                                                    Olavarria\n",
       "admin1                                               Buenos Aires\n",
       "cc                                                             AR\n",
       "Name: 998, dtype: object"
      ]
     },
     "execution_count": 19,
     "metadata": {},
     "output_type": "execute_result"
    }
   ],
   "source": [
    "row2loc2"
   ]
  },
  {
   "cell_type": "code",
   "execution_count": 20,
   "metadata": {},
   "outputs": [
    {
     "data": {
      "text/plain": [
       "timestamp_ms                                        1443890179277\n",
       "longitude                                                  120.97\n",
       "latitude                                                  14.4305\n",
       "text            football life kick ball goal goal win win win ...\n",
       "name                                                    Las Pinas\n",
       "admin1                                                 Calabarzon\n",
       "cc                                                             PH\n",
       "Name: 30, dtype: object"
      ]
     },
     "execution_count": 20,
     "metadata": {},
     "output_type": "execute_result"
    }
   ],
   "source": [
    "row2loc3"
   ]
  },
  {
   "cell_type": "code",
   "execution_count": 21,
   "metadata": {},
   "outputs": [
    {
     "data": {
      "text/plain": [
       "timestamp_ms                                        1443916456052\n",
       "longitude                                                -79.2726\n",
       "latitude                                                  43.6293\n",
       "text            football life kick ball goal goal win win win ...\n",
       "name                                                  Scarborough\n",
       "admin1                                                    Ontario\n",
       "cc                                                             CA\n",
       "Name: 995, dtype: object"
      ]
     },
     "execution_count": 21,
     "metadata": {},
     "output_type": "execute_result"
    }
   ],
   "source": [
    "row2loc4"
   ]
  },
  {
   "cell_type": "code",
   "execution_count": null,
   "metadata": {},
   "outputs": [],
   "source": []
  },
  {
   "cell_type": "code",
   "execution_count": null,
   "metadata": {},
   "outputs": [],
   "source": []
  },
  {
   "cell_type": "code",
   "execution_count": null,
   "metadata": {},
   "outputs": [],
   "source": []
  }
 ],
 "metadata": {
  "kernelspec": {
   "display_name": "Python 3",
   "language": "python",
   "name": "python3"
  },
  "language_info": {
   "codemirror_mode": {
    "name": "ipython",
    "version": 3
   },
   "file_extension": ".py",
   "mimetype": "text/x-python",
   "name": "python",
   "nbconvert_exporter": "python",
   "pygments_lexer": "ipython3",
   "version": "3.8.3"
  }
 },
 "nbformat": 4,
 "nbformat_minor": 4
}
