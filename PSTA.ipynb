{
 "cells": [
  {
   "cell_type": "markdown",
   "metadata": {},
   "source": [
    "# PSTA"
   ]
  },
  {
   "cell_type": "code",
   "execution_count": 10,
   "metadata": {},
   "outputs": [],
   "source": [
    "import pandas as pd\n",
    "import numpy as np\n",
    "import reverse_geocoder as rg\n",
    "import preprocessor as p\n",
    "from gensim.parsing.preprocessing import remove_stopwords, STOPWORDS\n",
    "import math\n",
    "from multiprocessing import  Pool"
   ]
  },
  {
   "cell_type": "code",
   "execution_count": 11,
   "metadata": {},
   "outputs": [],
   "source": [
    "df = pd.read_csv('../../Semesteroppgave/datasets/dataset/dataset_twitter/tweetsreplies4.tsv', encoding='cp1252', sep=\"\\t\", usecols=['timestamp_ms','longitude', 'latitude', 'text'])"
   ]
  },
  {
   "cell_type": "markdown",
   "metadata": {},
   "source": [
    "## Preprocessing\n",
    "Get detailed locations and timestamp and tokenize the text.\n",
    "* Fetch more location info from longitude and latitude using reverse_encoder https://github.com/thampiman/reverse-geocoder\n",
    "* Convert ms timestamps to datetime object.\n",
    "* Preprocess text using the preprocessor https://github.com/s/preprocessor and remove stopwords using gensim."
   ]
  },
  {
   "cell_type": "code",
   "execution_count": 12,
   "metadata": {},
   "outputs": [],
   "source": [
    "coordinates = list(df[['latitude','longitude']].itertuples(index=False, name=None))\n",
    "locations = rg.search(coordinates)"
   ]
  },
  {
   "cell_type": "code",
   "execution_count": 13,
   "metadata": {},
   "outputs": [],
   "source": [
    "locations_df = pd.json_normalize(locations)[['name', 'admin1', 'admin2', 'cc']]"
   ]
  },
  {
   "cell_type": "code",
   "execution_count": 15,
   "metadata": {},
   "outputs": [],
   "source": [
    "df = pd.concat([df, locations_df], axis=1)"
   ]
  },
  {
   "cell_type": "code",
   "execution_count": 16,
   "metadata": {},
   "outputs": [],
   "source": [
    "def parallelize_dataframe(df, func, n_cores=4):\n",
    "    df_split = np.array_split(df, n_cores)\n",
    "    pool = Pool(n_cores)\n",
    "    df = pd.concat(pool.map(func, df_split))\n",
    "    pool.close()\n",
    "    pool.join()\n",
    "    return df"
   ]
  },
  {
   "cell_type": "code",
   "execution_count": 17,
   "metadata": {},
   "outputs": [],
   "source": [
    "df = df.drop(df[df.text == ''].index)\n",
    "df = df.drop(df[df.text.isna()].index)\n",
    "df = df.drop(585341+536) # makes the function p.clean crash..."
   ]
  },
  {
   "cell_type": "code",
   "execution_count": 18,
   "metadata": {},
   "outputs": [],
   "source": [
    "def add_features(df):\n",
    "    try:\n",
    "        df['text'] = df['text'].apply(p.clean)\n",
    "    except:\n",
    "        print(df['text'])\n",
    "    return df\n",
    "df = parallelize_dataframe(df, add_features)"
   ]
  },
  {
   "cell_type": "code",
   "execution_count": 19,
   "metadata": {},
   "outputs": [],
   "source": [
    "# make lower case and remove white space, must be done after cleaning\n",
    "df['text']  = df['text'].str.lower().str.replace('[^\\w\\s]',' ').str.replace('\\s\\s+', ' ')"
   ]
  },
  {
   "cell_type": "code",
   "execution_count": 20,
   "metadata": {},
   "outputs": [],
   "source": [
    "# remove stopwords, must be done after cleaning and removal of white space\n",
    "# my_func = lambda x: remove_stopwords(x['doc'])\n",
    "def remove_stopwords_f(df):\n",
    "    df['text'] = df['text'].apply(remove_stopwords)\n",
    "    return df\n",
    "df = parallelize_dataframe(df, remove_stopwords_f)"
   ]
  },
  {
   "cell_type": "code",
   "execution_count": 21,
   "metadata": {},
   "outputs": [],
   "source": [
    "df = df.drop(df[df.text == ''].index)"
   ]
  },
  {
   "cell_type": "code",
   "execution_count": 23,
   "metadata": {},
   "outputs": [],
   "source": [
    "df = df.sort_values(by=['timestamp_ms', 'admin1'])"
   ]
  },
  {
   "cell_type": "code",
   "execution_count": 24,
   "metadata": {},
   "outputs": [],
   "source": [
    "df = df.drop(['admin2'], axis=1)"
   ]
  },
  {
   "cell_type": "code",
   "execution_count": 25,
   "metadata": {},
   "outputs": [
    {
     "data": {
      "text/html": [
       "<div>\n",
       "<style scoped>\n",
       "    .dataframe tbody tr th:only-of-type {\n",
       "        vertical-align: middle;\n",
       "    }\n",
       "\n",
       "    .dataframe tbody tr th {\n",
       "        vertical-align: top;\n",
       "    }\n",
       "\n",
       "    .dataframe thead th {\n",
       "        text-align: right;\n",
       "    }\n",
       "</style>\n",
       "<table border=\"1\" class=\"dataframe\">\n",
       "  <thead>\n",
       "    <tr style=\"text-align: right;\">\n",
       "      <th></th>\n",
       "      <th>timestamp_ms</th>\n",
       "      <th>longitude</th>\n",
       "      <th>latitude</th>\n",
       "      <th>text</th>\n",
       "      <th>name</th>\n",
       "      <th>admin1</th>\n",
       "      <th>cc</th>\n",
       "    </tr>\n",
       "  </thead>\n",
       "  <tbody>\n",
       "    <tr>\n",
       "      <th>0</th>\n",
       "      <td>1443887012127</td>\n",
       "      <td>-3.703508</td>\n",
       "      <td>40.477795</td>\n",
       "      <td>el bara lleva penaltis favor y el madrid slo v...</td>\n",
       "      <td>Tetuan de las Victorias</td>\n",
       "      <td>Madrid</td>\n",
       "      <td>ES</td>\n",
       "    </tr>\n",
       "    <tr>\n",
       "      <th>3</th>\n",
       "      <td>1443887056044</td>\n",
       "      <td>-5.923545</td>\n",
       "      <td>37.383117</td>\n",
       "      <td>envidia</td>\n",
       "      <td>Sevilla</td>\n",
       "      <td>Andalusia</td>\n",
       "      <td>ES</td>\n",
       "    </tr>\n",
       "    <tr>\n",
       "      <th>7</th>\n",
       "      <td>1443887073903</td>\n",
       "      <td>-66.578926</td>\n",
       "      <td>6.422820</td>\n",
       "      <td>acuerdo pero otra cosa es que ellos lo sepan c...</td>\n",
       "      <td>Puerto Carreno</td>\n",
       "      <td>Vichada</td>\n",
       "      <td>CO</td>\n",
       "    </tr>\n",
       "    <tr>\n",
       "      <th>5</th>\n",
       "      <td>1443887110156</td>\n",
       "      <td>-0.352529</td>\n",
       "      <td>39.422484</td>\n",
       "      <td>tu eres retrasado</td>\n",
       "      <td>Alfafar</td>\n",
       "      <td>Valencia</td>\n",
       "      <td>ES</td>\n",
       "    </tr>\n",
       "    <tr>\n",
       "      <th>13</th>\n",
       "      <td>1443887259772</td>\n",
       "      <td>20.951529</td>\n",
       "      <td>52.230058</td>\n",
       "      <td>oblaem si herbat</td>\n",
       "      <td>Ochota</td>\n",
       "      <td>Masovian Voivodeship</td>\n",
       "      <td>PL</td>\n",
       "    </tr>\n",
       "    <tr>\n",
       "      <th>...</th>\n",
       "      <td>...</td>\n",
       "      <td>...</td>\n",
       "      <td>...</td>\n",
       "      <td>...</td>\n",
       "      <td>...</td>\n",
       "      <td>...</td>\n",
       "      <td>...</td>\n",
       "    </tr>\n",
       "    <tr>\n",
       "      <th>707997</th>\n",
       "      <td>1573501662496</td>\n",
       "      <td>29.005222</td>\n",
       "      <td>41.021321</td>\n",
       "      <td>nasl gzel elolu neler neler yapyor zenmemek el...</td>\n",
       "      <td>UEskuedar</td>\n",
       "      <td>Istanbul</td>\n",
       "      <td>TR</td>\n",
       "    </tr>\n",
       "    <tr>\n",
       "      <th>849012</th>\n",
       "      <td>1574143147170</td>\n",
       "      <td>32.663877</td>\n",
       "      <td>39.914185</td>\n",
       "      <td>sunduun habere sen inandn m zor artlarda altnz...</td>\n",
       "      <td>Etimesgut</td>\n",
       "      <td>Ankara</td>\n",
       "      <td>TR</td>\n",
       "    </tr>\n",
       "    <tr>\n",
       "      <th>463066</th>\n",
       "      <td>1574422333977</td>\n",
       "      <td>-45.917442</td>\n",
       "      <td>-23.061418</td>\n",
       "      <td>bom dia junko</td>\n",
       "      <td>Sao Jose dos Campos</td>\n",
       "      <td>Sao Paulo</td>\n",
       "      <td>BR</td>\n",
       "    </tr>\n",
       "    <tr>\n",
       "      <th>392692</th>\n",
       "      <td>1575247560716</td>\n",
       "      <td>-80.476404</td>\n",
       "      <td>43.430240</td>\n",
       "      <td>radio stationi listen everyday turns day every...</td>\n",
       "      <td>Kitchener</td>\n",
       "      <td>Ontario</td>\n",
       "      <td>CA</td>\n",
       "    </tr>\n",
       "    <tr>\n",
       "      <th>553352</th>\n",
       "      <td>1575380994602</td>\n",
       "      <td>-77.014398</td>\n",
       "      <td>38.898603</td>\n",
       "      <td>bladee whitearmor bangs</td>\n",
       "      <td>Washington, D.C.</td>\n",
       "      <td>Washington, D.C.</td>\n",
       "      <td>US</td>\n",
       "    </tr>\n",
       "  </tbody>\n",
       "</table>\n",
       "<p>686770 rows × 7 columns</p>\n",
       "</div>"
      ],
      "text/plain": [
       "         timestamp_ms  longitude   latitude  \\\n",
       "0       1443887012127  -3.703508  40.477795   \n",
       "3       1443887056044  -5.923545  37.383117   \n",
       "7       1443887073903 -66.578926   6.422820   \n",
       "5       1443887110156  -0.352529  39.422484   \n",
       "13      1443887259772  20.951529  52.230058   \n",
       "...               ...        ...        ...   \n",
       "707997  1573501662496  29.005222  41.021321   \n",
       "849012  1574143147170  32.663877  39.914185   \n",
       "463066  1574422333977 -45.917442 -23.061418   \n",
       "392692  1575247560716 -80.476404  43.430240   \n",
       "553352  1575380994602 -77.014398  38.898603   \n",
       "\n",
       "                                                     text  \\\n",
       "0       el bara lleva penaltis favor y el madrid slo v...   \n",
       "3                                                 envidia   \n",
       "7       acuerdo pero otra cosa es que ellos lo sepan c...   \n",
       "5                                       tu eres retrasado   \n",
       "13                                       oblaem si herbat   \n",
       "...                                                   ...   \n",
       "707997  nasl gzel elolu neler neler yapyor zenmemek el...   \n",
       "849012  sunduun habere sen inandn m zor artlarda altnz...   \n",
       "463066                                      bom dia junko   \n",
       "392692  radio stationi listen everyday turns day every...   \n",
       "553352                            bladee whitearmor bangs   \n",
       "\n",
       "                           name                admin1  cc  \n",
       "0       Tetuan de las Victorias                Madrid  ES  \n",
       "3                       Sevilla             Andalusia  ES  \n",
       "7                Puerto Carreno               Vichada  CO  \n",
       "5                       Alfafar              Valencia  ES  \n",
       "13                       Ochota  Masovian Voivodeship  PL  \n",
       "...                         ...                   ...  ..  \n",
       "707997                UEskuedar              Istanbul  TR  \n",
       "849012                Etimesgut                Ankara  TR  \n",
       "463066      Sao Jose dos Campos             Sao Paulo  BR  \n",
       "392692                Kitchener               Ontario  CA  \n",
       "553352         Washington, D.C.      Washington, D.C.  US  \n",
       "\n",
       "[686770 rows x 7 columns]"
      ]
     },
     "execution_count": 25,
     "metadata": {},
     "output_type": "execute_result"
    }
   ],
   "source": [
    "df"
   ]
  },
  {
   "cell_type": "code",
   "execution_count": 26,
   "metadata": {},
   "outputs": [],
   "source": [
    "fmt = '%d\\n%.8f\\n%.8f\\n%s\\n%s\\n%s\\n%s'\n",
    "np.savetxt(r'datasetAll.txt', df.values, fmt=fmt, delimiter='\\r\\n')"
   ]
  },
  {
   "cell_type": "code",
   "execution_count": null,
   "metadata": {},
   "outputs": [],
   "source": []
  }
 ],
 "metadata": {
  "kernelspec": {
   "display_name": "Python 3",
   "language": "python",
   "name": "python3"
  },
  "language_info": {
   "codemirror_mode": {
    "name": "ipython",
    "version": 3
   },
   "file_extension": ".py",
   "mimetype": "text/x-python",
   "name": "python",
   "nbconvert_exporter": "python",
   "pygments_lexer": "ipython3",
   "version": "3.8.3"
  }
 },
 "nbformat": 4,
 "nbformat_minor": 4
}
