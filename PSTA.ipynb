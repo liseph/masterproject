{
 "cells": [
  {
   "cell_type": "markdown",
   "metadata": {},
   "source": [
    "# PSTA"
   ]
  },
  {
   "cell_type": "code",
   "execution_count": 1,
   "metadata": {},
   "outputs": [],
   "source": [
    "import pandas as pd\n",
    "import numpy as np\n",
    "import reverse_geocoder as rg\n",
    "import preprocessor as p\n",
    "from gensim.parsing.preprocessing import remove_stopwords, STOPWORDS\n",
    "import math\n",
    "from multiprocessing import  Pool"
   ]
  },
  {
   "cell_type": "code",
   "execution_count": 2,
   "metadata": {},
   "outputs": [],
   "source": [
    "df = pd.read_csv('../../Semesteroppgave/datasets/dataset/dataset_twitter/tweetsreplies4.tsv', encoding='cp1252', sep=\"\\t\", usecols=['timestamp_ms','longitude', 'latitude', 'text'])"
   ]
  },
  {
   "cell_type": "markdown",
   "metadata": {},
   "source": [
    "## Preprocessing\n",
    "Get detailed locations and timestamp and tokenize the text.\n",
    "* Fetch more location info from longitude and latitude using reverse_encoder https://github.com/thampiman/reverse-geocoder\n",
    "* Convert ms timestamps to datetime object.\n",
    "* Preprocess text using the preprocessor https://github.com/s/preprocessor and remove stopwords using gensim."
   ]
  },
  {
   "cell_type": "code",
   "execution_count": 3,
   "metadata": {},
   "outputs": [
    {
     "name": "stdout",
     "output_type": "stream",
     "text": [
      "Loading formatted geocoded file...\n"
     ]
    }
   ],
   "source": [
    "coordinates = list(df[['latitude','longitude']].itertuples(index=False, name=None))\n",
    "locations = rg.search(coordinates)"
   ]
  },
  {
   "cell_type": "code",
   "execution_count": 4,
   "metadata": {},
   "outputs": [],
   "source": [
    "locations_df = pd.json_normalize(locations)[['name', 'admin1', 'admin2', 'cc']]"
   ]
  },
  {
   "cell_type": "code",
   "execution_count": 5,
   "metadata": {},
   "outputs": [],
   "source": [
    "# df['timestamp'] = pd.to_datetime(df['timestamp_ms'], unit='ms') #.dt.date"
   ]
  },
  {
   "cell_type": "code",
   "execution_count": 6,
   "metadata": {},
   "outputs": [],
   "source": [
    "df = pd.concat([df, locations_df], axis=1)"
   ]
  },
  {
   "cell_type": "code",
   "execution_count": 7,
   "metadata": {},
   "outputs": [],
   "source": [
    "def parallelize_dataframe(df, func, n_cores=4):\n",
    "    df_split = np.array_split(df, n_cores)\n",
    "    pool = Pool(n_cores)\n",
    "    df = pd.concat(pool.map(func, df_split))\n",
    "    pool.close()\n",
    "    pool.join()\n",
    "    return df"
   ]
  },
  {
   "cell_type": "code",
   "execution_count": 8,
   "metadata": {},
   "outputs": [],
   "source": [
    "# This takes a very long time, wonder if it hangs or something? It is the clean-command that is slow.\n",
    "# It is always the same tweet that returns when I force stop it.\n",
    "def add_features(df):\n",
    "    df['text'] = df['text'].apply(p.clean)\n",
    "    return df\n",
    "df = parallelize_dataframe(df.head(100), add_features)"
   ]
  },
  {
   "cell_type": "code",
   "execution_count": 9,
   "metadata": {},
   "outputs": [],
   "source": [
    "# make lower case and remove white space, must be done after cleaning\n",
    "df['text']  = df['text'].str.lower().str.replace('[^\\w\\s]',' ').str.replace('\\s\\s+', ' ')"
   ]
  },
  {
   "cell_type": "code",
   "execution_count": 10,
   "metadata": {},
   "outputs": [],
   "source": [
    "# remove stopwords, must be done after cleaning and removal of white space\n",
    "# my_func = lambda x: remove_stopwords(x['doc'])\n",
    "def remove_stopwords_f(df):\n",
    "    df['text'] = df['text'].apply(remove_stopwords)\n",
    "    return df\n",
    "df = parallelize_dataframe(df, remove_stopwords_f)"
   ]
  },
  {
   "cell_type": "code",
   "execution_count": 11,
   "metadata": {},
   "outputs": [],
   "source": [
    "df = df.drop(df[df.text == ''].index)"
   ]
  },
  {
   "cell_type": "code",
   "execution_count": 12,
   "metadata": {},
   "outputs": [],
   "source": [
    "#df = df.groupby(['timestamp_ms', 'admin1']).agg(list)"
   ]
  },
  {
   "cell_type": "code",
   "execution_count": 15,
   "metadata": {},
   "outputs": [],
   "source": [
    "df = df.sort_values(by=['timestamp_ms', 'admin1'])"
   ]
  },
  {
   "cell_type": "code",
   "execution_count": 16,
   "metadata": {},
   "outputs": [
    {
     "data": {
      "text/html": [
       "<div>\n",
       "<style scoped>\n",
       "    .dataframe tbody tr th:only-of-type {\n",
       "        vertical-align: middle;\n",
       "    }\n",
       "\n",
       "    .dataframe tbody tr th {\n",
       "        vertical-align: top;\n",
       "    }\n",
       "\n",
       "    .dataframe thead th {\n",
       "        text-align: right;\n",
       "    }\n",
       "</style>\n",
       "<table border=\"1\" class=\"dataframe\">\n",
       "  <thead>\n",
       "    <tr style=\"text-align: right;\">\n",
       "      <th></th>\n",
       "      <th>timestamp_ms</th>\n",
       "      <th>longitude</th>\n",
       "      <th>latitude</th>\n",
       "      <th>text</th>\n",
       "      <th>name</th>\n",
       "      <th>admin1</th>\n",
       "      <th>admin2</th>\n",
       "      <th>cc</th>\n",
       "    </tr>\n",
       "  </thead>\n",
       "  <tbody>\n",
       "    <tr>\n",
       "      <th>0</th>\n",
       "      <td>1443887012127</td>\n",
       "      <td>-3.703508</td>\n",
       "      <td>40.477795</td>\n",
       "      <td>el bara lleva penaltis favor y el madrid slo v...</td>\n",
       "      <td>Tetuan de las Victorias</td>\n",
       "      <td>Madrid</td>\n",
       "      <td>Provincia de Madrid</td>\n",
       "      <td>ES</td>\n",
       "    </tr>\n",
       "    <tr>\n",
       "      <th>3</th>\n",
       "      <td>1443887056044</td>\n",
       "      <td>-5.923545</td>\n",
       "      <td>37.383117</td>\n",
       "      <td>envidia</td>\n",
       "      <td>Sevilla</td>\n",
       "      <td>Andalusia</td>\n",
       "      <td>Provincia de Sevilla</td>\n",
       "      <td>ES</td>\n",
       "    </tr>\n",
       "    <tr>\n",
       "      <th>7</th>\n",
       "      <td>1443887073903</td>\n",
       "      <td>-66.578926</td>\n",
       "      <td>6.422820</td>\n",
       "      <td>acuerdo pero otra cosa es que ellos lo sepan c...</td>\n",
       "      <td>Puerto Carreno</td>\n",
       "      <td>Vichada</td>\n",
       "      <td></td>\n",
       "      <td>CO</td>\n",
       "    </tr>\n",
       "    <tr>\n",
       "      <th>5</th>\n",
       "      <td>1443887110156</td>\n",
       "      <td>-0.352529</td>\n",
       "      <td>39.422484</td>\n",
       "      <td>tu eres retrasado</td>\n",
       "      <td>Alfafar</td>\n",
       "      <td>Valencia</td>\n",
       "      <td>Provincia de Valencia</td>\n",
       "      <td>ES</td>\n",
       "    </tr>\n",
       "    <tr>\n",
       "      <th>13</th>\n",
       "      <td>1443887259772</td>\n",
       "      <td>20.951529</td>\n",
       "      <td>52.230058</td>\n",
       "      <td>oblaem si herbat</td>\n",
       "      <td>Ochota</td>\n",
       "      <td>Masovian Voivodeship</td>\n",
       "      <td>Warszawa</td>\n",
       "      <td>PL</td>\n",
       "    </tr>\n",
       "    <tr>\n",
       "      <th>...</th>\n",
       "      <td>...</td>\n",
       "      <td>...</td>\n",
       "      <td>...</td>\n",
       "      <td>...</td>\n",
       "      <td>...</td>\n",
       "      <td>...</td>\n",
       "      <td>...</td>\n",
       "      <td>...</td>\n",
       "    </tr>\n",
       "    <tr>\n",
       "      <th>50</th>\n",
       "      <td>1443978210545</td>\n",
       "      <td>-7.925291</td>\n",
       "      <td>40.689216</td>\n",
       "      <td>qnd devias tar estudar e vais tirar fotos basi...</td>\n",
       "      <td>Abraveses</td>\n",
       "      <td>Viseu</td>\n",
       "      <td>Viseu</td>\n",
       "      <td>PT</td>\n",
       "    </tr>\n",
       "    <tr>\n",
       "      <th>43</th>\n",
       "      <td>1443988487058</td>\n",
       "      <td>-7.925291</td>\n",
       "      <td>40.689216</td>\n",
       "      <td>pq e que eu antes nunca sorria com dentes e ag...</td>\n",
       "      <td>Abraveses</td>\n",
       "      <td>Viseu</td>\n",
       "      <td>Viseu</td>\n",
       "      <td>PT</td>\n",
       "    </tr>\n",
       "    <tr>\n",
       "      <th>35</th>\n",
       "      <td>1444075868135</td>\n",
       "      <td>-66.578926</td>\n",
       "      <td>6.422820</td>\n",
       "      <td>den rt</td>\n",
       "      <td>Puerto Carreno</td>\n",
       "      <td>Vichada</td>\n",
       "      <td></td>\n",
       "      <td>CO</td>\n",
       "    </tr>\n",
       "    <tr>\n",
       "      <th>8</th>\n",
       "      <td>1444247467474</td>\n",
       "      <td>-99.153366</td>\n",
       "      <td>19.432836</td>\n",
       "      <td>el madrid lleva champions regaladas barcelona ...</td>\n",
       "      <td>Cuauhtemoc</td>\n",
       "      <td>Mexico City</td>\n",
       "      <td></td>\n",
       "      <td>MX</td>\n",
       "    </tr>\n",
       "    <tr>\n",
       "      <th>37</th>\n",
       "      <td>1444665934518</td>\n",
       "      <td>-66.578926</td>\n",
       "      <td>6.422820</td>\n",
       "      <td>den rt ya faltan menos daniela</td>\n",
       "      <td>Puerto Carreno</td>\n",
       "      <td>Vichada</td>\n",
       "      <td></td>\n",
       "      <td>CO</td>\n",
       "    </tr>\n",
       "  </tbody>\n",
       "</table>\n",
       "<p>63 rows × 8 columns</p>\n",
       "</div>"
      ],
      "text/plain": [
       "     timestamp_ms  longitude   latitude  \\\n",
       "0   1443887012127  -3.703508  40.477795   \n",
       "3   1443887056044  -5.923545  37.383117   \n",
       "7   1443887073903 -66.578926   6.422820   \n",
       "5   1443887110156  -0.352529  39.422484   \n",
       "13  1443887259772  20.951529  52.230058   \n",
       "..            ...        ...        ...   \n",
       "50  1443978210545  -7.925291  40.689216   \n",
       "43  1443988487058  -7.925291  40.689216   \n",
       "35  1444075868135 -66.578926   6.422820   \n",
       "8   1444247467474 -99.153366  19.432836   \n",
       "37  1444665934518 -66.578926   6.422820   \n",
       "\n",
       "                                                 text  \\\n",
       "0   el bara lleva penaltis favor y el madrid slo v...   \n",
       "3                                             envidia   \n",
       "7   acuerdo pero otra cosa es que ellos lo sepan c...   \n",
       "5                                   tu eres retrasado   \n",
       "13                                   oblaem si herbat   \n",
       "..                                                ...   \n",
       "50  qnd devias tar estudar e vais tirar fotos basi...   \n",
       "43  pq e que eu antes nunca sorria com dentes e ag...   \n",
       "35                                             den rt   \n",
       "8   el madrid lleva champions regaladas barcelona ...   \n",
       "37                     den rt ya faltan menos daniela   \n",
       "\n",
       "                       name                admin1                 admin2  cc  \n",
       "0   Tetuan de las Victorias                Madrid    Provincia de Madrid  ES  \n",
       "3                   Sevilla             Andalusia   Provincia de Sevilla  ES  \n",
       "7            Puerto Carreno               Vichada                         CO  \n",
       "5                   Alfafar              Valencia  Provincia de Valencia  ES  \n",
       "13                   Ochota  Masovian Voivodeship               Warszawa  PL  \n",
       "..                      ...                   ...                    ...  ..  \n",
       "50                Abraveses                 Viseu                  Viseu  PT  \n",
       "43                Abraveses                 Viseu                  Viseu  PT  \n",
       "35           Puerto Carreno               Vichada                         CO  \n",
       "8                Cuauhtemoc           Mexico City                         MX  \n",
       "37           Puerto Carreno               Vichada                         CO  \n",
       "\n",
       "[63 rows x 8 columns]"
      ]
     },
     "execution_count": 16,
     "metadata": {},
     "output_type": "execute_result"
    }
   ],
   "source": [
    "df"
   ]
  },
  {
   "cell_type": "code",
   "execution_count": null,
   "metadata": {},
   "outputs": [],
   "source": []
  }
 ],
 "metadata": {
  "kernelspec": {
   "display_name": "Python 3",
   "language": "python",
   "name": "python3"
  },
  "language_info": {
   "codemirror_mode": {
    "name": "ipython",
    "version": 3
   },
   "file_extension": ".py",
   "mimetype": "text/x-python",
   "name": "python",
   "nbconvert_exporter": "python",
   "pygments_lexer": "ipython3",
   "version": "3.8.3"
  }
 },
 "nbformat": 4,
 "nbformat_minor": 4
}
